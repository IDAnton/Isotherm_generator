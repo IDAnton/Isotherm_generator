{
 "cells": [
  {
   "cell_type": "code",
   "execution_count": 417,
   "metadata": {
    "collapsed": true,
    "pycharm": {
     "name": "#%%\n"
    }
   },
   "outputs": [],
   "source": [
    "import pandas as pd\n",
    "import numpy as np\n",
    "import matplotlib.pyplot as plt\n",
    "import matplotlib as mpl\n",
    "\n",
    "mpl.use('TkAgg')"
   ]
  },
  {
   "cell_type": "code",
   "execution_count": 416,
   "outputs": [],
   "source": [
    "dataframe1_sorb = pd.read_excel('Silica-loc-isoth1.xlsx', header=None, sheet_name=\"Adsorption\")\n",
    "data_sorb = dataframe1_sorb.to_numpy()\n",
    "dataframe1_desorb = pd.read_excel('Silica-loc-isoth1.xlsx', header=None, sheet_name=\"Desorption\")\n",
    "data_desorb = dataframe1_desorb.to_numpy()"
   ],
   "metadata": {
    "collapsed": false,
    "pycharm": {
     "name": "#%%\n"
    }
   }
  },
  {
   "cell_type": "code",
   "execution_count": 418,
   "outputs": [],
   "source": [
    "pressure_start_index = 21\n",
    "\n",
    "pore_sizes_s = data_sorb[0][1:]\n",
    "pressures_s = data_sorb[:, 0][pressure_start_index:]\n",
    "\n",
    "pore_sizes_d = data_desorb[0][1:]\n",
    "pressures_d = data_desorb[:, 0][pressure_start_index:]"
   ],
   "metadata": {
    "collapsed": false,
    "pycharm": {
     "name": "#%%\n"
    }
   }
  },
  {
   "cell_type": "code",
   "execution_count": 419,
   "outputs": [],
   "source": [
    "N = data_sorb.shape[0]\n",
    "P_N = len(pressures_s)\n",
    "n_s = np.zeros(len(pressures_s))\n",
    "n_d = np.zeros(len(pressures_d))"
   ],
   "metadata": {
    "collapsed": false,
    "pycharm": {
     "name": "#%%\n"
    }
   }
  },
  {
   "cell_type": "code",
   "execution_count": 420,
   "outputs": [],
   "source": [
    "sigma1 = 2\n",
    "sigma2 = 5\n",
    "d0_1 = 9\n",
    "d0_2 = 20\n",
    "\n",
    "pore_distribution = (1 / sigma1) * np.exp(- np.power((pore_sizes_d - d0_1), 2) / (2 * sigma1 ** 2))\n",
    "pore_distribution += (1 / sigma2) * np.exp(- np.power((pore_sizes_d - d0_2), 2) / (2 * sigma2 ** 2))"
   ],
   "metadata": {
    "collapsed": false,
    "pycharm": {
     "name": "#%%\n"
    }
   }
  },
  {
   "cell_type": "code",
   "execution_count": 421,
   "outputs": [],
   "source": [
    "for p_i in range(pressure_start_index, N):\n",
    "    for d_i in range(len(pore_distribution)):\n",
    "        n_s[p_i - pressure_start_index] += pore_distribution[d_i] * data_sorb[p_i][d_i]\n",
    "\n",
    "for p_i in range(pressure_start_index, N):\n",
    "    for d_i in range(len(pore_distribution)):\n",
    "        n_d[p_i - pressure_start_index] += pore_distribution[d_i] * data_desorb[p_i][d_i]"
   ],
   "metadata": {
    "collapsed": false,
    "pycharm": {
     "name": "#%%\n"
    }
   }
  },
  {
   "cell_type": "code",
   "execution_count": 422,
   "outputs": [],
   "source": [
    "for i in range(1, P_N-1):\n",
    "    n_s[i] = (n_s[i-1] + n_s[i] + n_s[i+1]) / 3\n",
    "    n_d[i] = (n_d[i-1] + n_d[i] + n_d[i+1]) / 3"
   ],
   "metadata": {
    "collapsed": false,
    "pycharm": {
     "name": "#%%\n"
    }
   }
  },
  {
   "cell_type": "code",
   "execution_count": 423,
   "outputs": [],
   "source": [
    "max_value = max(n_s.max(), n_d.max())\n",
    "n_s = n_s / max_value\n",
    "n_d = n_d / max_value"
   ],
   "metadata": {
    "collapsed": false,
    "pycharm": {
     "name": "#%%\n"
    }
   }
  },
  {
   "cell_type": "code",
   "execution_count": 434,
   "outputs": [],
   "source": [
    "# figure, axis = plt.subplots(1, 2)\n",
    "# axis[0].plot(pore_sizes_d, pore_distribution, marker=\".\")\n",
    "# axis[1].plot(pressures_s, n_s, marker=\".\")\n",
    "# axis[1].plot(pressures_d, n_d, marker=\".\")\n",
    "plt.plot(pressures_d, n_d, marker=\".\")\n",
    "plt.plot(pressures_d, n_s, marker=\".\")\n",
    "plt.show()"
   ],
   "metadata": {
    "collapsed": false,
    "pycharm": {
     "name": "#%%\n"
    }
   }
  },
  {
   "cell_type": "code",
   "execution_count": 430,
   "outputs": [],
   "source": [
    "resolution = 100\n",
    "picture = np.zeros((resolution, resolution))"
   ],
   "metadata": {
    "collapsed": false,
    "pycharm": {
     "name": "#%%\n"
    }
   }
  },
  {
   "cell_type": "code",
   "execution_count": 431,
   "outputs": [],
   "source": [
    "def bresenham_line(x0, y0, x1, y1):\n",
    "    steep = abs(y1 - y0) > abs(x1 - x0)\n",
    "    if steep:\n",
    "        x0, y0 = y0, x0\n",
    "        x1, y1 = y1, x1\n",
    "\n",
    "    switched = False\n",
    "    if x0 > x1:\n",
    "        switched = True\n",
    "        x0, x1 = x1, x0\n",
    "        y0, y1 = y1, y0\n",
    "\n",
    "    if y0 < y1:\n",
    "        ystep = 1\n",
    "    else:\n",
    "        ystep = -1\n",
    "\n",
    "    deltax = x1 - x0\n",
    "    deltay = abs(y1 - y0)\n",
    "    error = -deltax / 2\n",
    "    y = y0\n",
    "\n",
    "    line = []\n",
    "    for x in range(x0, x1 + 1):\n",
    "        if steep:\n",
    "            line.append((y,x))\n",
    "        else:\n",
    "            line.append((x,y))\n",
    "\n",
    "        error = error + deltay\n",
    "        if error > 0:\n",
    "            y = y + ystep\n",
    "            error = error - deltax\n",
    "    if switched:\n",
    "        line.reverse()\n",
    "    return line"
   ],
   "metadata": {
    "collapsed": false,
    "pycharm": {
     "name": "#%%\n"
    }
   }
  },
  {
   "cell_type": "code",
   "execution_count": 432,
   "outputs": [],
   "source": [
    "def graph_to_picture(n_array, pressure_array, resolution, picture):\n",
    "    tmp_x, tmp_y = None, None\n",
    "    for p_i in range(len(pressure_array)):\n",
    "            x = int(n_array[p_i] * (resolution-1))\n",
    "            y = int(pressure_array[p_i] * (resolution-1))\n",
    "            picture[x][y] = 1\n",
    "            if tmp_x is not None:  # connect points with line\n",
    "                line = bresenham_line(tmp_x, tmp_y, x, y)\n",
    "                for a, b in line:\n",
    "                    picture[a][b] = 1\n",
    "            tmp_x, tmp_y = x, y\n",
    "graph_to_picture(n_s, pressures_s, picture)\n",
    "graph_to_picture(n_d, pressures_d, picture)"
   ],
   "metadata": {
    "collapsed": false,
    "pycharm": {
     "name": "#%%\n"
    }
   }
  },
  {
   "cell_type": "code",
   "execution_count": 433,
   "outputs": [],
   "source": [
    "fig = plt.figure\n",
    "plt.imshow(picture, cmap='gray', origin='lower')\n",
    "plt.show()"
   ],
   "metadata": {
    "collapsed": false,
    "pycharm": {
     "name": "#%%\n"
    }
   }
  },
  {
   "cell_type": "code",
   "execution_count": 428,
   "outputs": [],
   "source": [],
   "metadata": {
    "collapsed": false,
    "pycharm": {
     "name": "#%%\n"
    }
   }
  }
 ],
 "metadata": {
  "kernelspec": {
   "display_name": "Python 3",
   "language": "python",
   "name": "python3"
  },
  "language_info": {
   "codemirror_mode": {
    "name": "ipython",
    "version": 2
   },
   "file_extension": ".py",
   "mimetype": "text/x-python",
   "name": "python",
   "nbconvert_exporter": "python",
   "pygments_lexer": "ipython2",
   "version": "2.7.6"
  }
 },
 "nbformat": 4,
 "nbformat_minor": 0
}