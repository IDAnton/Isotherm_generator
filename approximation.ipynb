{
 "cells": [
  {
   "cell_type": "code",
   "execution_count": null,
   "id": "2dab6920-7f5e-4d44-9f0d-43c8a6f58a8c",
   "metadata": {
    "tags": []
   },
   "outputs": [],
   "source": [
    "import numpy as np\n",
    "import matplotlib.pyplot as plt\n",
    "from matplotlib import cm\n",
    "import pandas as pd"
   ]
  },
  {
   "cell_type": "code",
   "execution_count": 82,
   "id": "fc2005d5-808a-4b4b-8c1e-d59893735409",
   "metadata": {
    "tags": []
   },
   "outputs": [],
   "source": [
    "P_START = 21\n",
    "dataframe_sorb = pd.read_excel('Silica-loc-isoth1.xlsx', header=None, sheet_name=\"Adsorption\")\n",
    "\n",
    "p_array = np.array(dataframe_sorb[0][21:])\n",
    "a_array = np.array(dataframe_sorb.iloc[0][1:])\n",
    "Z = np.empty(shape=(140, 458))\n",
    "for p in range(len(p_array)):\n",
    "    for a in range(len(a_array)):\n",
    "        P.append(p_array[p])\n",
    "        A.append(a_array[a])\n",
    "        Z[a][p] = dataframe_sorb[a+1][p+1]\n",
    "\n",
    "p = np.linspace(p_array[0], p_array[-1], len(p_array))\n",
    "a = np.linspace(a_array[0], a_array[-1], len(a_array))\n",
    "\n",
    "p, a = np.meshgrid(p, a)"
   ]
  },
  {
   "cell_type": "code",
   "execution_count": 83,
   "id": "dbec3634-da8d-4614-9a9a-b1c647195bb4",
   "metadata": {
    "tags": []
   },
   "outputs": [],
   "source": [
    "%matplotlib qt\n",
    "fig = plt.figure()\n",
    "ax = plt.axes(projection='3d')\n",
    "ax.plot_surface(p, a, Z, cmap='viridis')\n",
    "ax.set_xlabel('Давление')\n",
    "ax.set_ylabel('Размер пор')\n",
    "plt.show()"
   ]
  },
  {
   "cell_type": "code",
   "execution_count": 79,
   "id": "8756961e-73d3-41ce-ac0d-d5b4b718ccad",
   "metadata": {
    "tags": []
   },
   "outputs": [
    {
     "data": {
      "text/plain": [
       "[<matplotlib.lines.Line2D at 0x1ce768eb1d0>]"
      ]
     },
     "execution_count": 79,
     "metadata": {},
     "output_type": "execute_result"
    }
   ],
   "source": [
    "pi_a_array = np.empty((len(a_array), len(p_array)))\n",
    "for i in range(len(a_array)):\n",
    "    pi_a_array[i] = dataframe_sorb[i+1][21:]\n",
    "plt.plot(p_array, pi_a_array[3], marker=\".\")"
   ]
  },
  {
   "cell_type": "code",
   "execution_count": null,
   "id": "33628ad9-5884-433e-b232-679c14f4db6c",
   "metadata": {},
   "outputs": [],
   "source": []
  }
 ],
 "metadata": {
  "kernelspec": {
   "display_name": "venv",
   "language": "python",
   "name": "venv"
  },
  "language_info": {
   "codemirror_mode": {
    "name": "ipython",
    "version": 3
   },
   "file_extension": ".py",
   "mimetype": "text/x-python",
   "name": "python",
   "nbconvert_exporter": "python",
   "pygments_lexer": "ipython3",
   "version": "3.11.3"
  }
 },
 "nbformat": 4,
 "nbformat_minor": 5
}
