{
 "cells": [
  {
   "cell_type": "code",
   "execution_count": 2,
   "metadata": {
    "collapsed": true,
    "pycharm": {
     "name": "#%%\n"
    }
   },
   "outputs": [],
   "source": [
    "import numpy as np\n",
    "import matplotlib.pyplot as plt"
   ]
  },
  {
   "cell_type": "code",
   "execution_count": 3,
   "outputs": [],
   "source": [
    "def softmax(t):\n",
    "    res = np.exp(t)\n",
    "    return res / np.sum(res)\n",
    "\n",
    "def relu(t):\n",
    "    return np.maximum(t, 0)\n",
    "\n",
    "def sigmoid(x):\n",
    "    return 1 / (1 + np.exp(-x))\n",
    "\n",
    "def sigmoid_deriv(x):\n",
    "    return sigmoid(x) * (1-sigmoid(x))\n",
    "\n",
    "def relu_deriv(t):\n",
    "    return (t>=0).astype(float)\n",
    "\n",
    "\n",
    "class Perceptron:\n",
    "    def __init__(self, input_dim, h1_dim, h2_dim, out_dim, learn_rate = 0.05):\n",
    "        self.input_dim = input_dim\n",
    "        self.h1_dim = h1_dim\n",
    "        self.h2_dim = h2_dim\n",
    "        self.out_dim = out_dim\n",
    "        self.learn_rate = learn_rate\n",
    "\n",
    "        self.t1 = np.zeros([1, self.h1_dim])\n",
    "        self.h1 = np.zeros([1, self.h1_dim])\n",
    "        self.t2 = np.zeros([1, self.h2_dim])\n",
    "        self.h2 = np.zeros([1, self.h2_dim])\n",
    "        self.t3 = np.zeros([1, self.out_dim])\n",
    "        self.out = np.zeros([1, self.out_dim])\n",
    "\n",
    "        self.w1 = (np.random.rand(self.input_dim, self.h1_dim) - 0.5 ) * 0.01\n",
    "        self.b1 = (np.random.rand(1, self.h1_dim) - 0.5) * 0.01\n",
    "        self.w2 = (np.random.rand(self.h1_dim, self.h2_dim) - 0.5) * 0.01\n",
    "        self.b2 = (np.random.rand(1, self.h2_dim) - 0.5) * 0.01\n",
    "        self.w3 = (np.random.rand(self.h2_dim, self.out_dim) - 0.5) * 0.01\n",
    "        self.b3 = (np.random.rand(1, self.out_dim) - 0.5) * 0.01\n",
    "        self.drop_gradients()\n",
    "\n",
    "\n",
    "    def drop_gradients(self):\n",
    "        self.dE_dw1 = np.zeros((self.input_dim, self.h1_dim))\n",
    "        self.dE_db1 = np.zeros((1, self.h1_dim))\n",
    "        self.dE_dw2 = np.zeros((self.h1_dim, self.h2_dim))\n",
    "        self.dE_db2 = np.zeros((1, self.h2_dim))\n",
    "        self.dE_dw3 = np.zeros((self.h2_dim, self.out_dim))\n",
    "        self.dE_db3 = np.zeros((1, self.out_dim))\n",
    "\n",
    "\n",
    "    def run(self, data, activation_function):\n",
    "        self.t1 = data @ self.w1 + self.b1\n",
    "        self.h1 = activation_function(self.t1)\n",
    "        self.t2 = self.h1 @ self.w2 + self.b2\n",
    "        self.h2 = activation_function(self.t2)\n",
    "        self.t3 = self.h2 @ self.w3 + self.b3\n",
    "        self.out = self.t3\n",
    "        return self.out\n",
    "\n",
    "\n",
    "\n",
    "    def calculate_gradient(self, data, right_out, activation_deriv):\n",
    "        dE_dt3 = self.out - right_out\n",
    "        self.dE_dw3 += self.h2.T @ dE_dt3\n",
    "        self.dE_db3 = dE_dt3\n",
    "\n",
    "        dE_dh2 = dE_dt3 @ self.w3.T\n",
    "        dE_dt2 = dE_dh2 * activation_deriv(self.t2)\n",
    "        self.dE_dw2 += self.h1.T @ dE_dt2\n",
    "        self.dE_db2 += dE_dt2\n",
    "\n",
    "        dE_dh3 = dE_dt2 @ self.w2.T\n",
    "        dE_dt3 = dE_dh3 * activation_deriv(self.t1)\n",
    "        self.dE_dw1 += data.T * dE_dt3\n",
    "        self.dE_db1 += dE_dt3\n",
    "\n",
    "\n",
    "    def apply_gradient(self, batch_size=1):\n",
    "        self.w1 -= self.learn_rate * self.dE_dw1 / batch_size\n",
    "        self.w2 -= self.learn_rate * self.dE_dw2 / batch_size\n",
    "        self.w3 -= self.learn_rate * self.dE_dw3 / batch_size\n",
    "        self.b1 -= self.learn_rate * self.dE_db1 / batch_size\n",
    "        self.b2 -= self.learn_rate * self.dE_db2 / batch_size\n",
    "        self.b3 -= self.learn_rate * self.dE_db3 / batch_size\n",
    "\n",
    "        self.drop_gradients()\n",
    "\n"
   ],
   "metadata": {
    "collapsed": false,
    "pycharm": {
     "name": "#%%\n"
    }
   }
  },
  {
   "cell_type": "code",
   "execution_count": 44,
   "outputs": [],
   "source": [
    "def train_model(model, X_train, y_train, X_test, y_test):\n",
    "    for epoch in range (1, 2000):\n",
    "        loss = 0\n",
    "        inner_counter = 1\n",
    "        for i in np.random.permutation(len(X_train)):\n",
    "            prediction = model.run(data=X_train[i].flatten(), activation_function=relu)\n",
    "            loss += np.sum(np.square(y_train[i] - prediction[0][0])/2)\n",
    "            model.calculate_gradient(data=X_train[i], right_out=y_train[i].flatten(), activation_deriv=relu_deriv)\n",
    "            if inner_counter % 10 == 0:\n",
    "                model.apply_gradient(batch_size=10)\n",
    "            inner_counter += 1\n",
    "\n",
    "        test_loss = 0\n",
    "        # for i in range(0, 10000):\n",
    "        #     prediction = np.argmax(model.run(data=X_test[i], activation_function=relu))\n",
    "        #     test_loss += (y_test[i] - prediction) ** 2\n",
    "        print(f\"Epoch №{epoch} finished with accuracy {round(loss/len(X_train), 6)} Test dataset accuracy {round(test_loss/len(X_train) * 100, 2)}\")\n"
   ],
   "metadata": {
    "collapsed": false,
    "pycharm": {
     "name": "#%%\n"
    }
   }
  },
  {
   "cell_type": "code",
   "execution_count": 45,
   "outputs": [
    {
     "data": {
      "text/plain": "[<matplotlib.lines.Line2D at 0x230e30ae6d0>]"
     },
     "execution_count": 45,
     "metadata": {},
     "output_type": "execute_result"
    },
    {
     "data": {
      "text/plain": "<Figure size 640x480 with 1 Axes>",
      "image/png": "[encoded data removed]"
     },
     "metadata": {},
     "output_type": "display_data"
    }
   ],
   "source": [
    "import pandas as pd\n",
    "P_START = 21\n",
    "dataframe_sorb = pd.read_excel('Silica-loc-isoth1.xlsx', header=None, sheet_name=\"Adsorption\")\n",
    "AX_train = []\n",
    "PX_train = []\n",
    "pore_N = dataframe_sorb.shape[1]  # P and A on input\n",
    "# AX_train = np.array(dataframe_sorb.iloc[0][1:])\n",
    "# ax_scale = np.max(AX_train)\n",
    "# px_scale = np.max(PX_train)\n",
    "# AX_train = AX_train / ax_scale\n",
    "# PX_train = PX_train / px_scale\n",
    "#\n",
    "# X_train = np.empty(shape = (len(AX_train) * len(PX_train), 2))\n",
    "# Y_train = np.empty(shape =len(AX_train) * len(PX_train))\n",
    "# k = 0\n",
    "# for i in range(0, len(AX_train)):\n",
    "#     for j in range(0, len(PX_train)):\n",
    "#         X_train[k] = np.array([AX_train[i], PX_train[j]])\n",
    "#         Y_train[k] = dataframe_sorb[i+1][j+P_START]\n",
    "#         k+=1\n",
    "# y_scale = np.max(Y_train)\n",
    "# Y_train = Y_train / y_scale\n",
    "################################\n",
    "# X_train = np.array(dataframe_sorb.iloc[0][1:])\n",
    "#\n",
    "# Y_train = np.empty((pore_N, len(dataframe_sorb.iloc[0][1:])))\n",
    "# PX_train = np.empty((len(Y_train), len(PX_train)))\n",
    "# PX_train_tmp = PX_train\n",
    "# for i in range(1, pore_N-1):\n",
    "#     Y_train[i] = np.array(dataframe_sorb[i+1][21:])\n",
    "#     PX_train[i] = np.array(dataframe_sorb[0][21:])\n",
    "# Y_train_tmp = Y_train\n",
    "#\n",
    "# for i in range(len(Y_train_tmp)):\n",
    "#     PX_train[i] = -Y_train_tmp[i]*np.sin(-np.pi/4) + PX_train_tmp*np.cos(-np.pi/4)\n",
    "#     Y_train[i] = PX_train_tmp*np.sin(-np.pi/4) + Y_train_tmp[i]*np.cos(-np.pi/4)\n",
    "# plt.plot(PX_train[100], Y_train[100], marker=\".\")\n",
    "################################\n",
    "p_array = dataframe_sorb[0][21:]\n",
    "a_array = np.array(dataframe_sorb.iloc[0][1:])\n",
    "a_scale = np.max(a_array)\n",
    "a_array = a_array / a_scale\n",
    "\n",
    "pi_x_array = np.empty((len(a_array), len(p_array)))\n",
    "pi_a_array = np.empty((len(a_array), len(p_array)))\n",
    "for i in range(len(a_array)):\n",
    "    pi_x_array[i] = p_array\n",
    "    pi_a_array[i] = dataframe_sorb[i+1][21:]\n",
    "\n",
    "\n",
    "costheta = np.cos(2*np.pi-np.pi/4)\n",
    "sintheta = np.sin(2*np.pi-np.pi/4)\n",
    "for i in range(len(a_array)):\n",
    "    pi_x_array_tmp = p_array\n",
    "    pi_a_array_tmp = pi_a_array[i]\n",
    "    pi_x_array[i] = pi_x_array_tmp*costheta - pi_a_array_tmp*sintheta\n",
    "    pi_a_array[i] = pi_x_array_tmp*sintheta + pi_a_array_tmp*costheta\n",
    "\n",
    "\n",
    "k = 80\n",
    "x_scale = np.max(np.abs(pi_x_array))\n",
    "y_scale = np.max(np.abs(pi_a_array))\n",
    "pi_x_array = pi_x_array / x_scale\n",
    "pi_a_array = pi_a_array / y_scale\n",
    "\n",
    "\n",
    "pi_a_array_new = np.empty((len(a_array), len(p_array)))\n",
    "for i in range(len(pi_a_array)):\n",
    "    pi_a_array_new[i] = np.interp(p_array, pi_x_array[i], pi_a_array[i])\n",
    "\n",
    "plt.plot(pi_x_array[k], pi_a_array[k], marker=\".\")\n",
    "plt.plot(p_array, pi_a_array_new[k], marker=\".\")"
   ],
   "metadata": {
    "collapsed": false,
    "pycharm": {
     "name": "#%%\n"
    }
   }
  },
  {
   "cell_type": "code",
   "execution_count": 46,
   "outputs": [],
   "source": [
    "# X_train = np.linspace(-10, 10, 100)\n",
    "# Y_train = np.square(X_train)*2 + np.power(X_train, 3)*0.5 + np.sin(X_train)*0.2 + np.cos(X_train*10)*100\n",
    "# x_scale = np.max(X_train)\n",
    "# y_scale = np.max(Y_train)\n",
    "# X_train = X_train / x_scale\n",
    "# Y_train = Y_train / y_scale"
   ],
   "metadata": {
    "collapsed": false,
    "pycharm": {
     "name": "#%%\n"
    }
   }
  },
  {
   "cell_type": "code",
   "execution_count": 50,
   "outputs": [],
   "source": [
    "np.random.seed(0)\n",
    "model = Perceptron(input_dim=1, h1_dim=1000, h2_dim=1000, out_dim=len(pi_a_array_new[0]))"
   ],
   "metadata": {
    "collapsed": false,
    "pycharm": {
     "name": "#%%\n"
    }
   }
  },
  {
   "cell_type": "code",
   "execution_count": 53,
   "outputs": [
    {
     "name": "stdout",
     "output_type": "stream",
     "text": [
      "Epoch №1 finished with accuracy 131.112497 Test dataset accuracy 0.0\n",
      "Epoch №2 finished with accuracy 131.160464 Test dataset accuracy 0.0\n",
      "Epoch №3 finished with accuracy 131.123913 Test dataset accuracy 0.0\n",
      "Epoch №4 finished with accuracy 131.072732 Test dataset accuracy 0.0\n",
      "Epoch №5 finished with accuracy 131.122814 Test dataset accuracy 0.0\n",
      "Epoch №6 finished with accuracy 131.173644 Test dataset accuracy 0.0\n",
      "Epoch №7 finished with accuracy 131.131662 Test dataset accuracy 0.0\n",
      "Epoch №8 finished with accuracy 131.113751 Test dataset accuracy 0.0\n",
      "Epoch №9 finished with accuracy 131.121348 Test dataset accuracy 0.0\n",
      "Epoch №10 finished with accuracy 131.135228 Test dataset accuracy 0.0\n"
     ]
    },
    {
     "ename": "KeyboardInterrupt",
     "evalue": "",
     "output_type": "error",
     "traceback": [
      "\u001B[1;31m---------------------------------------------------------------------------\u001B[0m",
      "\u001B[1;31mKeyboardInterrupt\u001B[0m                         Traceback (most recent call last)",
      "Cell \u001B[1;32mIn[53], line 2\u001B[0m\n\u001B[0;32m      1\u001B[0m model\u001B[38;5;241m.\u001B[39mlearn_rate \u001B[38;5;241m=\u001B[39m \u001B[38;5;241m10\u001B[39m\n\u001B[1;32m----> 2\u001B[0m \u001B[43mtrain_model\u001B[49m\u001B[43m(\u001B[49m\u001B[43mmodel\u001B[49m\u001B[43m,\u001B[49m\u001B[43m \u001B[49m\u001B[43ma_array\u001B[49m\u001B[43m,\u001B[49m\u001B[43m \u001B[49m\u001B[43mpi_a_array_new\u001B[49m\u001B[43m,\u001B[49m\u001B[43m \u001B[49m\u001B[43ma_array\u001B[49m\u001B[43m,\u001B[49m\u001B[43m \u001B[49m\u001B[43mpi_a_array_new\u001B[49m\u001B[43m)\u001B[49m\n",
      "Cell \u001B[1;32mIn[44], line 10\u001B[0m, in \u001B[0;36mtrain_model\u001B[1;34m(model, X_train, y_train, X_test, y_test)\u001B[0m\n\u001B[0;32m      8\u001B[0m     model\u001B[38;5;241m.\u001B[39mcalculate_gradient(data\u001B[38;5;241m=\u001B[39mX_train[i], right_out\u001B[38;5;241m=\u001B[39my_train[i]\u001B[38;5;241m.\u001B[39mflatten(), activation_deriv\u001B[38;5;241m=\u001B[39mrelu_deriv)\n\u001B[0;32m      9\u001B[0m     \u001B[38;5;28;01mif\u001B[39;00m inner_counter \u001B[38;5;241m%\u001B[39m \u001B[38;5;241m10\u001B[39m \u001B[38;5;241m==\u001B[39m \u001B[38;5;241m0\u001B[39m:\n\u001B[1;32m---> 10\u001B[0m         \u001B[43mmodel\u001B[49m\u001B[38;5;241;43m.\u001B[39;49m\u001B[43mapply_gradient\u001B[49m\u001B[43m(\u001B[49m\u001B[43mbatch_size\u001B[49m\u001B[38;5;241;43m=\u001B[39;49m\u001B[38;5;241;43m10\u001B[39;49m\u001B[43m)\u001B[49m\n\u001B[0;32m     11\u001B[0m     inner_counter \u001B[38;5;241m+\u001B[39m\u001B[38;5;241m=\u001B[39m \u001B[38;5;241m1\u001B[39m\n\u001B[0;32m     13\u001B[0m test_loss \u001B[38;5;241m=\u001B[39m \u001B[38;5;241m0\u001B[39m\n",
      "Cell \u001B[1;32mIn[3], line 81\u001B[0m, in \u001B[0;36mPerceptron.apply_gradient\u001B[1;34m(self, batch_size)\u001B[0m\n\u001B[0;32m     79\u001B[0m \u001B[38;5;28mself\u001B[39m\u001B[38;5;241m.\u001B[39mw1 \u001B[38;5;241m-\u001B[39m\u001B[38;5;241m=\u001B[39m \u001B[38;5;28mself\u001B[39m\u001B[38;5;241m.\u001B[39mlearn_rate \u001B[38;5;241m*\u001B[39m \u001B[38;5;28mself\u001B[39m\u001B[38;5;241m.\u001B[39mdE_dw1 \u001B[38;5;241m/\u001B[39m batch_size\n\u001B[0;32m     80\u001B[0m \u001B[38;5;28mself\u001B[39m\u001B[38;5;241m.\u001B[39mw2 \u001B[38;5;241m-\u001B[39m\u001B[38;5;241m=\u001B[39m \u001B[38;5;28mself\u001B[39m\u001B[38;5;241m.\u001B[39mlearn_rate \u001B[38;5;241m*\u001B[39m \u001B[38;5;28mself\u001B[39m\u001B[38;5;241m.\u001B[39mdE_dw2 \u001B[38;5;241m/\u001B[39m batch_size\n\u001B[1;32m---> 81\u001B[0m \u001B[38;5;28mself\u001B[39m\u001B[38;5;241m.\u001B[39mw3 \u001B[38;5;241m-\u001B[39m\u001B[38;5;241m=\u001B[39m \u001B[38;5;28;43mself\u001B[39;49m\u001B[38;5;241;43m.\u001B[39;49m\u001B[43mlearn_rate\u001B[49m\u001B[43m \u001B[49m\u001B[38;5;241;43m*\u001B[39;49m\u001B[43m \u001B[49m\u001B[38;5;28;43mself\u001B[39;49m\u001B[38;5;241;43m.\u001B[39;49m\u001B[43mdE_dw3\u001B[49m \u001B[38;5;241m/\u001B[39m batch_size\n\u001B[0;32m     82\u001B[0m \u001B[38;5;28mself\u001B[39m\u001B[38;5;241m.\u001B[39mb1 \u001B[38;5;241m-\u001B[39m\u001B[38;5;241m=\u001B[39m \u001B[38;5;28mself\u001B[39m\u001B[38;5;241m.\u001B[39mlearn_rate \u001B[38;5;241m*\u001B[39m \u001B[38;5;28mself\u001B[39m\u001B[38;5;241m.\u001B[39mdE_db1 \u001B[38;5;241m/\u001B[39m batch_size\n\u001B[0;32m     83\u001B[0m \u001B[38;5;28mself\u001B[39m\u001B[38;5;241m.\u001B[39mb2 \u001B[38;5;241m-\u001B[39m\u001B[38;5;241m=\u001B[39m \u001B[38;5;28mself\u001B[39m\u001B[38;5;241m.\u001B[39mlearn_rate \u001B[38;5;241m*\u001B[39m \u001B[38;5;28mself\u001B[39m\u001B[38;5;241m.\u001B[39mdE_db2 \u001B[38;5;241m/\u001B[39m batch_size\n",
      "\u001B[1;31mKeyboardInterrupt\u001B[0m: "
     ]
    }
   ],
   "source": [
    "model.learn_rate = 10\n",
    "train_model(model, a_array, pi_a_array_new, a_array, pi_a_array_new)"
   ],
   "metadata": {
    "collapsed": false,
    "pycharm": {
     "name": "#%%\n"
    }
   }
  },
  {
   "cell_type": "code",
   "execution_count": 56,
   "outputs": [
    {
     "data": {
      "text/plain": "<matplotlib.legend.Legend at 0x230e3259100>"
     },
     "execution_count": 56,
     "metadata": {},
     "output_type": "execute_result"
    },
    {
     "data": {
      "text/plain": "<Figure size 640x480 with 1 Axes>",
      "image/png": "[encoded data removed]"
     },
     "metadata": {},
     "output_type": "display_data"
    }
   ],
   "source": [
    "i = 100\n",
    "answer = model.run(data=a_array[i].flatten(), activation_function=relu)\n",
    "plt.plot(p_array, answer.reshape(458,1), marker=\".\", label=\"predicted\")\n",
    "plt.plot(p_array, pi_a_array_new[i], marker=\".\", label=\"real\")\n",
    "plt.legend()"
   ],
   "metadata": {
    "collapsed": false,
    "pycharm": {
     "name": "#%%\n"
    }
   }
  },
  {
   "cell_type": "code",
   "execution_count": null,
   "outputs": [],
   "source": [
    "# right_answer = []\n",
    "# for i in X_train:\n",
    "#     right_answer.append(model.run(data=i.flatten(), activation_function=relu)[0][0]*y_scale)\n",
    "# plt.plot(X_train*10, Y_train*y_scale, marker=\".\")\n",
    "# plt.plot(X_train*10, right_answer, marker=\".\")"
   ],
   "metadata": {
    "collapsed": false,
    "pycharm": {
     "name": "#%%\n"
    }
   }
  },
  {
   "cell_type": "code",
   "execution_count": null,
   "outputs": [],
   "source": [
    "# import PyQt5\n",
    "# %matplotlib notebook\n",
    "#\n",
    "# import matplotlib.pyplot as plt\n",
    "# from mpl_toolkits.mplot3d import axes3d\n",
    "# fig = plt.figure()\n",
    "# ax = fig.add_subplot(111, projection='3d')\n",
    "# X, Y = np.meshgrid(AX_train, PX_train)\n",
    "# Z = Y_train.reshape(X.shape)\n",
    "# surf = ax.plot_surface(X, Y, Z)\n",
    "# plt.show()"
   ],
   "metadata": {
    "collapsed": false,
    "pycharm": {
     "name": "#%%\n"
    }
   }
  }
 ],
 "metadata": {
  "kernelspec": {
   "display_name": "Python 3",
   "language": "python",
   "name": "python3"
  },
  "language_info": {
   "codemirror_mode": {
    "name": "ipython",
    "version": 2
   },
   "file_extension": ".py",
   "mimetype": "text/x-python",
   "name": "python",
   "nbconvert_exporter": "python",
   "pygments_lexer": "ipython2",
   "version": "2.7.6"
  }
 },
 "nbformat": 4,
 "nbformat_minor": 0
}