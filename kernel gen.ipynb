{
 "cells": [
  {
   "cell_type": "code",
   "execution_count": null,
   "metadata": {
    "collapsed": true,
    "jupyter": {
     "outputs_hidden": true
    },
    "pycharm": {
     "name": "#%%\n"
    }
   },
   "outputs": [],
   "source": [
    "import numpy as np\n",
    "import matplotlib.pyplot as plt"
   ]
  },
  {
   "cell_type": "code",
   "execution_count": null,
   "metadata": {
    "collapsed": false,
    "jupyter": {
     "outputs_hidden": false
    },
    "pycharm": {
     "name": "#%%\n"
    }
   },
   "outputs": [],
   "source": [
    "def softmax(t):\n",
    "    res = np.exp(t)\n",
    "    return res / np.sum(res)\n",
    "\n",
    "def relu(t):\n",
    "    return np.maximum(t, 0)\n",
    "\n",
    "def sigmoid(x):\n",
    "    return 1 / (1 + np.exp(-x))\n",
    "\n",
    "def sigmoid_deriv(x):\n",
    "    return sigmoid(x) * (1-sigmoid(x))\n",
    "\n",
    "def relu_deriv(t):\n",
    "    return (t>=0).astype(float)\n",
    "\n",
    "\n",
    "class Perceptron:\n",
    "    def __init__(self, input_dim, h1_dim, h2_dim, out_dim, learn_rate = 0.05):\n",
    "        self.input_dim = input_dim\n",
    "        self.h1_dim = h1_dim\n",
    "        self.h2_dim = h2_dim\n",
    "        self.out_dim = out_dim\n",
    "        self.learn_rate = learn_rate\n",
    "\n",
    "        self.t1 = np.zeros([1, self.h1_dim])\n",
    "        self.h1 = np.zeros([1, self.h1_dim])\n",
    "        self.t2 = np.zeros([1, self.h2_dim])\n",
    "        self.h2 = np.zeros([1, self.h2_dim])\n",
    "        self.t3 = np.zeros([1, self.out_dim])\n",
    "        self.out = np.zeros([1, self.out_dim])\n",
    "\n",
    "        self.w1 = np.random.normal(size = (self.input_dim, self.h1_dim)) * 0.1\n",
    "        self.b1 = np.random.normal(size = (1, self.h1_dim)) * 0.1\n",
    "        self.w2 = np.random.normal(size = (self.h1_dim, self.h2_dim)) * 0.1\n",
    "        self.b2 = np.random.normal(size = (1, self.h2_dim)) * 0.1\n",
    "        self.w3 = np.random.normal(size = (self.h2_dim, self.out_dim)) * 0.1\n",
    "        self.b3 = np.random.normal(size = (1, self.out_dim)) * 0.1\n",
    "        self.drop_gradients()\n",
    "\n",
    "\n",
    "    def drop_gradients(self):\n",
    "        self.dE_dw1 = np.zeros((self.input_dim, self.h1_dim))\n",
    "        self.dE_db1 = np.zeros((1, self.h1_dim))\n",
    "        self.dE_dw2 = np.zeros((self.h1_dim, self.h2_dim))\n",
    "        self.dE_db2 = np.zeros((1, self.h2_dim))\n",
    "        self.dE_dw3 = np.zeros((self.h2_dim, self.out_dim))\n",
    "        self.dE_db3 = np.zeros((1, self.out_dim))\n",
    "\n",
    "\n",
    "    def run(self, data, activation_function):\n",
    "        self.t1 = data @ self.w1 + self.b1\n",
    "        self.h1 = activation_function(self.t1)\n",
    "        self.t2 = self.h1 @ self.w2 + self.b2\n",
    "        self.h2 = activation_function(self.t2)\n",
    "        self.t3 = self.h2 @ self.w3 + self.b3\n",
    "        self.out = self.t3\n",
    "        return self.out\n",
    "\n",
    "\n",
    "\n",
    "    def calculate_gradient(self, data, right_out, activation_deriv):\n",
    "        dE_dt3 = self.out - right_out\n",
    "        self.dE_dw3 += self.h2.T @ dE_dt3\n",
    "        self.dE_db3 = dE_dt3\n",
    "\n",
    "        dE_dh2 = dE_dt3 @ self.w3.T\n",
    "        dE_dt2 = dE_dh2 * activation_deriv(self.t2)\n",
    "        self.dE_dw2 += self.h1.T @ dE_dt2\n",
    "        self.dE_db2 += dE_dt2\n",
    "\n",
    "        dE_dh3 = dE_dt2 @ self.w2.T\n",
    "        dE_dt3 = dE_dh3 * activation_deriv(self.t1)\n",
    "        self.dE_dw1 += data.T * dE_dt3\n",
    "        self.dE_db1 += dE_dt3\n",
    "\n",
    "\n",
    "    def apply_gradient(self, batch_size=1):\n",
    "        self.w1 -= self.learn_rate * self.dE_dw1 / batch_size\n",
    "        self.w2 -= self.learn_rate * self.dE_dw2 / batch_size\n",
    "        self.w3 -= self.learn_rate * self.dE_dw3 / batch_size\n",
    "        self.b1 -= self.learn_rate * self.dE_db1 / batch_size\n",
    "        self.b2 -= self.learn_rate * self.dE_db2 / batch_size\n",
    "        self.b3 -= self.learn_rate * self.dE_db3 / batch_size\n",
    "\n",
    "        self.drop_gradients()\n",
    "\n"
   ]
  },
  {
   "cell_type": "code",
   "execution_count": null,
   "metadata": {
    "collapsed": false,
    "jupyter": {
     "outputs_hidden": false
    },
    "pycharm": {
     "name": "#%%\n"
    }
   },
   "outputs": [],
   "source": [
    "def train_model(model, X_train, y_train, X_test, y_test):\n",
    "    for epoch in range (1, 2000):\n",
    "        loss = 0\n",
    "        inner_counter = 1\n",
    "        for i in np.random.permutation(len(X_train)):\n",
    "            prediction = model.run(data=X_train[i].flatten(), activation_function=relu)\n",
    "            loss += np.sum(np.square(y_train[i] - prediction[0][0])/2)\n",
    "            model.calculate_gradient(data=X_train[i], right_out=y_train[i].flatten(), activation_deriv=relu_deriv)\n",
    "            if inner_counter % 10 == 0:\n",
    "                model.apply_gradient(batch_size=10)\n",
    "            inner_counter += 1\n",
    "\n",
    "        test_loss = 0\n",
    "        # for i in range(0, 10000):\n",
    "        #     prediction = np.argmax(model.run(data=X_test[i], activation_function=relu))\n",
    "        #     test_loss += (y_test[i] - prediction) ** 2\n",
    "        print(f\"Epoch №{epoch} finished with accuracy {round(loss/len(X_train), 6)} Test dataset accuracy {round(test_loss/len(X_train) * 100, 2)}\")\n"
   ]
  },
  {
   "cell_type": "code",
   "execution_count": null,
   "metadata": {
    "collapsed": false,
    "jupyter": {
     "outputs_hidden": false
    },
    "pycharm": {
     "name": "#%%\n"
    }
   },
   "outputs": [],
   "source": [
    "import pandas as pd\n",
    "P_START = 21\n",
    "dataframe_sorb = pd.read_excel('Silica-loc-isoth1.xlsx', header=None, sheet_name=\"Adsorption\")\n",
    "AX_train = []\n",
    "PX_train = []\n",
    "pore_N = dataframe_sorb.shape[1]  # P and A on input\n",
    "# AX_train = np.array(dataframe_sorb.iloc[0][1:])\n",
    "# ax_scale = np.max(AX_train)\n",
    "# px_scale = np.max(PX_train)\n",
    "# AX_train = AX_train / ax_scale\n",
    "# PX_train = PX_train / px_scale\n",
    "#\n",
    "# X_train = np.empty(shape = (len(AX_train) * len(PX_train), 2))\n",
    "# Y_train = np.empty(shape =len(AX_train) * len(PX_train))\n",
    "# k = 0\n",
    "# for i in range(0, len(AX_train)):\n",
    "#     for j in range(0, len(PX_train)):\n",
    "#         X_train[k] = np.array([AX_train[i], PX_train[j]])\n",
    "#         Y_train[k] = dataframe_sorb[i+1][j+P_START]\n",
    "#         k+=1\n",
    "# y_scale = np.max(Y_train)\n",
    "# Y_train = Y_train / y_scale\n",
    "################################\n",
    "# X_train = np.array(dataframe_sorb.iloc[0][1:])\n",
    "#\n",
    "# Y_train = np.empty((pore_N, len(dataframe_sorb.iloc[0][1:])))\n",
    "# PX_train = np.empty((len(Y_train), len(PX_train)))\n",
    "# PX_train_tmp = PX_train\n",
    "# for i in range(1, pore_N-1):\n",
    "#     Y_train[i] = np.array(dataframe_sorb[i+1][21:])\n",
    "#     PX_train[i] = np.array(dataframe_sorb[0][21:])\n",
    "# Y_train_tmp = Y_train\n",
    "#\n",
    "# for i in range(len(Y_train_tmp)):\n",
    "#     PX_train[i] = -Y_train_tmp[i]*np.sin(-np.pi/4) + PX_train_tmp*np.cos(-np.pi/4)\n",
    "#     Y_train[i] = PX_train_tmp*np.sin(-np.pi/4) + Y_train_tmp[i]*np.cos(-np.pi/4)\n",
    "# plt.plot(PX_train[100], Y_train[100], marker=\".\")\n",
    "################################\n",
    "p_array = dataframe_sorb[0][21:]\n",
    "a_array = np.array(dataframe_sorb.iloc[0][1:])\n",
    "a_scale = np.max(a_array)\n",
    "a_array = a_array / a_scale\n",
    "\n",
    "pi_x_array = np.empty((len(a_array), len(p_array)))\n",
    "pi_a_array = np.empty((len(a_array), len(p_array)))\n",
    "for i in range(len(a_array)):\n",
    "    pi_x_array[i] = p_array\n",
    "    pi_a_array[i] = dataframe_sorb[i+1][21:]\n",
    "\n",
    "\n",
    "costheta = np.cos(2*np.pi-np.pi/4)\n",
    "sintheta = np.sin(2*np.pi-np.pi/4)\n",
    "for i in range(len(a_array)):\n",
    "    pi_x_array_tmp = p_array\n",
    "    pi_a_array_tmp = pi_a_array[i]\n",
    "    pi_x_array[i] = pi_x_array_tmp*costheta - pi_a_array_tmp*sintheta\n",
    "    pi_a_array[i] = pi_x_array_tmp*sintheta + pi_a_array_tmp*costheta\n",
    "\n",
    "\n",
    "k = 80\n",
    "x_scale = np.max(np.abs(pi_x_array))\n",
    "y_scale = np.max(np.abs(pi_a_array))\n",
    "pi_x_array = pi_x_array / x_scale\n",
    "pi_a_array = pi_a_array / y_scale\n",
    "\n",
    "\n",
    "pi_a_array_new = np.empty((len(a_array), len(p_array)))\n",
    "for i in range(len(pi_a_array)):\n",
    "    pi_a_array_new[i] = np.interp(p_array, pi_x_array[i], pi_a_array[i])\n",
    "\n",
    "plt.plot(pi_x_array[k], pi_a_array[k], marker=\".\")\n",
    "plt.plot(p_array, pi_a_array_new[k], marker=\".\")"
   ]
  },
  {
   "cell_type": "code",
   "execution_count": null,
   "metadata": {
    "collapsed": false,
    "jupyter": {
     "outputs_hidden": false
    },
    "pycharm": {
     "name": "#%%\n"
    }
   },
   "outputs": [],
   "source": [
    "# X_train = np.linspace(-10, 10, 100)\n",
    "# Y_train = np.square(X_train)*2 + np.power(X_train, 3)*0.5 + np.sin(X_train)*0.2 + np.cos(X_train*10)*100\n",
    "# x_scale = np.max(X_train)\n",
    "# y_scale = np.max(Y_train)\n",
    "# X_train = X_train / x_scale\n",
    "# Y_train = Y_train / y_scale"
   ]
  },
  {
   "cell_type": "code",
   "execution_count": null,
   "metadata": {
    "collapsed": false,
    "jupyter": {
     "outputs_hidden": false
    },
    "pycharm": {
     "name": "#%%\n"
    }
   },
   "outputs": [],
   "source": [
    "np.random.seed(0)\n",
    "model = Perceptron(input_dim=1, h1_dim=100, h2_dim=100, out_dim=len(pi_a_array_new[0]))"
   ]
  },
  {
   "cell_type": "code",
   "execution_count": 235,
   "metadata": {
    "collapsed": false,
    "jupyter": {
     "outputs_hidden": false
    },
    "pycharm": {
     "name": "#%%\n"
    }
   },
   "outputs": [
    {
     "name": "stdout",
     "output_type": "stream",
     "text": [
      "Epoch №1 finished with accuracy 130.290675 Test dataset accuracy 0.0\n",
      "Epoch №2 finished with accuracy 130.823648 Test dataset accuracy 0.0\n",
      "Epoch №3 finished with accuracy 131.019783 Test dataset accuracy 0.0\n",
      "Epoch №4 finished with accuracy 131.071216 Test dataset accuracy 0.0\n",
      "Epoch №5 finished with accuracy 131.072921 Test dataset accuracy 0.0\n",
      "Epoch №6 finished with accuracy 131.110591 Test dataset accuracy 0.0\n",
      "Epoch №7 finished with accuracy 131.125986 Test dataset accuracy 0.0\n",
      "Epoch №8 finished with accuracy 131.129876 Test dataset accuracy 0.0\n",
      "Epoch №9 finished with accuracy 131.093758 Test dataset accuracy 0.0\n",
      "Epoch №10 finished with accuracy 131.125525 Test dataset accuracy 0.0\n",
      "Epoch №11 finished with accuracy 131.121086 Test dataset accuracy 0.0\n",
      "Epoch №12 finished with accuracy 131.10057 Test dataset accuracy 0.0\n",
      "Epoch №13 finished with accuracy 131.099318 Test dataset accuracy 0.0\n",
      "Epoch №14 finished with accuracy 131.115663 Test dataset accuracy 0.0\n",
      "Epoch №15 finished with accuracy 131.200117 Test dataset accuracy 0.0\n",
      "Epoch №16 finished with accuracy 131.123006 Test dataset accuracy 0.0\n",
      "Epoch №17 finished with accuracy 131.141951 Test dataset accuracy 0.0\n",
      "Epoch №18 finished with accuracy 131.102231 Test dataset accuracy 0.0\n",
      "Epoch №19 finished with accuracy 131.089473 Test dataset accuracy 0.0\n",
      "Epoch №20 finished with accuracy 131.102609 Test dataset accuracy 0.0\n",
      "Epoch №21 finished with accuracy 131.091583 Test dataset accuracy 0.0\n",
      "Epoch №22 finished with accuracy 131.093291 Test dataset accuracy 0.0\n",
      "Epoch №23 finished with accuracy 131.111262 Test dataset accuracy 0.0\n",
      "Epoch №24 finished with accuracy 131.115843 Test dataset accuracy 0.0\n",
      "Epoch №25 finished with accuracy 131.168632 Test dataset accuracy 0.0\n",
      "Epoch №26 finished with accuracy 131.1523 Test dataset accuracy 0.0\n",
      "Epoch №27 finished with accuracy 131.099094 Test dataset accuracy 0.0\n",
      "Epoch №28 finished with accuracy 131.124838 Test dataset accuracy 0.0\n",
      "Epoch №29 finished with accuracy 131.160003 Test dataset accuracy 0.0\n",
      "Epoch №30 finished with accuracy 131.195619 Test dataset accuracy 0.0\n",
      "Epoch №31 finished with accuracy 131.122556 Test dataset accuracy 0.0\n",
      "Epoch №32 finished with accuracy 131.110263 Test dataset accuracy 0.0\n",
      "Epoch №33 finished with accuracy 131.119241 Test dataset accuracy 0.0\n",
      "Epoch №34 finished with accuracy 131.117708 Test dataset accuracy 0.0\n",
      "Epoch №35 finished with accuracy 131.187255 Test dataset accuracy 0.0\n",
      "Epoch №36 finished with accuracy 131.137586 Test dataset accuracy 0.0\n",
      "Epoch №37 finished with accuracy 131.159976 Test dataset accuracy 0.0\n",
      "Epoch №38 finished with accuracy 131.116226 Test dataset accuracy 0.0\n",
      "Epoch №39 finished with accuracy 131.108205 Test dataset accuracy 0.0\n",
      "Epoch №40 finished with accuracy 131.109557 Test dataset accuracy 0.0\n",
      "Epoch №41 finished with accuracy 131.138025 Test dataset accuracy 0.0\n",
      "Epoch №42 finished with accuracy 131.094785 Test dataset accuracy 0.0\n",
      "Epoch №43 finished with accuracy 131.079377 Test dataset accuracy 0.0\n",
      "Epoch №44 finished with accuracy 131.086671 Test dataset accuracy 0.0\n",
      "Epoch №45 finished with accuracy 131.10091 Test dataset accuracy 0.0\n",
      "Epoch №46 finished with accuracy 131.111595 Test dataset accuracy 0.0\n",
      "Epoch №47 finished with accuracy 131.092481 Test dataset accuracy 0.0\n",
      "Epoch №48 finished with accuracy 131.138347 Test dataset accuracy 0.0\n",
      "Epoch №49 finished with accuracy 131.107895 Test dataset accuracy 0.0\n",
      "Epoch №50 finished with accuracy 131.132467 Test dataset accuracy 0.0\n",
      "Epoch №51 finished with accuracy 131.118359 Test dataset accuracy 0.0\n",
      "Epoch №52 finished with accuracy 131.089678 Test dataset accuracy 0.0\n",
      "Epoch №53 finished with accuracy 131.078076 Test dataset accuracy 0.0\n",
      "Epoch №54 finished with accuracy 131.104715 Test dataset accuracy 0.0\n",
      "Epoch №55 finished with accuracy 131.110333 Test dataset accuracy 0.0\n",
      "Epoch №56 finished with accuracy 131.12661 Test dataset accuracy 0.0\n",
      "Epoch №57 finished with accuracy 131.18198 Test dataset accuracy 0.0\n",
      "Epoch №58 finished with accuracy 131.110274 Test dataset accuracy 0.0\n",
      "Epoch №59 finished with accuracy 131.083989 Test dataset accuracy 0.0\n",
      "Epoch №60 finished with accuracy 131.087639 Test dataset accuracy 0.0\n",
      "Epoch №61 finished with accuracy 131.101968 Test dataset accuracy 0.0\n",
      "Epoch №62 finished with accuracy 131.114147 Test dataset accuracy 0.0\n",
      "Epoch №63 finished with accuracy 131.141306 Test dataset accuracy 0.0\n",
      "Epoch №64 finished with accuracy 131.10234 Test dataset accuracy 0.0\n",
      "Epoch №65 finished with accuracy 131.082752 Test dataset accuracy 0.0\n",
      "Epoch №66 finished with accuracy 131.075313 Test dataset accuracy 0.0\n",
      "Epoch №67 finished with accuracy 131.116655 Test dataset accuracy 0.0\n",
      "Epoch №68 finished with accuracy 131.144417 Test dataset accuracy 0.0\n",
      "Epoch №69 finished with accuracy 131.145386 Test dataset accuracy 0.0\n",
      "Epoch №70 finished with accuracy 131.145578 Test dataset accuracy 0.0\n",
      "Epoch №71 finished with accuracy 131.153614 Test dataset accuracy 0.0\n",
      "Epoch №72 finished with accuracy 131.141107 Test dataset accuracy 0.0\n",
      "Epoch №73 finished with accuracy 131.197577 Test dataset accuracy 0.0\n",
      "Epoch №74 finished with accuracy 131.154902 Test dataset accuracy 0.0\n",
      "Epoch №75 finished with accuracy 131.151737 Test dataset accuracy 0.0\n",
      "Epoch №76 finished with accuracy 131.112354 Test dataset accuracy 0.0\n",
      "Epoch №77 finished with accuracy 131.085218 Test dataset accuracy 0.0\n",
      "Epoch №78 finished with accuracy 131.112604 Test dataset accuracy 0.0\n",
      "Epoch №79 finished with accuracy 131.089965 Test dataset accuracy 0.0\n"
     ]
    },
    {
     "ename": "KeyboardInterrupt",
     "evalue": "",
     "output_type": "error",
     "traceback": [
      "\u001b[1;31m---------------------------------------------------------------------------\u001b[0m",
      "\u001b[1;31mKeyboardInterrupt\u001b[0m                         Traceback (most recent call last)",
      "Cell \u001b[1;32mIn[235], line 2\u001b[0m\n\u001b[0;32m      1\u001b[0m model\u001b[38;5;241m.\u001b[39mlearn_rate \u001b[38;5;241m=\u001b[39m \u001b[38;5;241m0.8\u001b[39m\n\u001b[1;32m----> 2\u001b[0m \u001b[43mtrain_model\u001b[49m\u001b[43m(\u001b[49m\u001b[43mmodel\u001b[49m\u001b[43m,\u001b[49m\u001b[43m \u001b[49m\u001b[43ma_array\u001b[49m\u001b[43m,\u001b[49m\u001b[43m \u001b[49m\u001b[43mpi_a_array_new\u001b[49m\u001b[43m,\u001b[49m\u001b[43m \u001b[49m\u001b[43ma_array\u001b[49m\u001b[43m,\u001b[49m\u001b[43m \u001b[49m\u001b[43mpi_a_array_new\u001b[49m\u001b[43m)\u001b[49m\n",
      "Cell \u001b[1;32mIn[197], line 10\u001b[0m, in \u001b[0;36mtrain_model\u001b[1;34m(model, X_train, y_train, X_test, y_test)\u001b[0m\n\u001b[0;32m      8\u001b[0m     model\u001b[38;5;241m.\u001b[39mcalculate_gradient(data\u001b[38;5;241m=\u001b[39mX_train[i], right_out\u001b[38;5;241m=\u001b[39my_train[i]\u001b[38;5;241m.\u001b[39mflatten(), activation_deriv\u001b[38;5;241m=\u001b[39mrelu_deriv)\n\u001b[0;32m      9\u001b[0m     \u001b[38;5;28;01mif\u001b[39;00m inner_counter \u001b[38;5;241m%\u001b[39m \u001b[38;5;241m10\u001b[39m \u001b[38;5;241m==\u001b[39m \u001b[38;5;241m0\u001b[39m:\n\u001b[1;32m---> 10\u001b[0m         \u001b[43mmodel\u001b[49m\u001b[38;5;241;43m.\u001b[39;49m\u001b[43mapply_gradient\u001b[49m\u001b[43m(\u001b[49m\u001b[43mbatch_size\u001b[49m\u001b[38;5;241;43m=\u001b[39;49m\u001b[38;5;241;43m10\u001b[39;49m\u001b[43m)\u001b[49m\n\u001b[0;32m     11\u001b[0m     inner_counter \u001b[38;5;241m+\u001b[39m\u001b[38;5;241m=\u001b[39m \u001b[38;5;241m1\u001b[39m\n\u001b[0;32m     13\u001b[0m test_loss \u001b[38;5;241m=\u001b[39m \u001b[38;5;241m0\u001b[39m\n",
      "Cell \u001b[1;32mIn[196], line 81\u001b[0m, in \u001b[0;36mPerceptron.apply_gradient\u001b[1;34m(self, batch_size)\u001b[0m\n\u001b[0;32m     79\u001b[0m \u001b[38;5;28mself\u001b[39m\u001b[38;5;241m.\u001b[39mw1 \u001b[38;5;241m-\u001b[39m\u001b[38;5;241m=\u001b[39m \u001b[38;5;28mself\u001b[39m\u001b[38;5;241m.\u001b[39mlearn_rate \u001b[38;5;241m*\u001b[39m \u001b[38;5;28mself\u001b[39m\u001b[38;5;241m.\u001b[39mdE_dw1 \u001b[38;5;241m/\u001b[39m batch_size\n\u001b[0;32m     80\u001b[0m \u001b[38;5;28mself\u001b[39m\u001b[38;5;241m.\u001b[39mw2 \u001b[38;5;241m-\u001b[39m\u001b[38;5;241m=\u001b[39m \u001b[38;5;28mself\u001b[39m\u001b[38;5;241m.\u001b[39mlearn_rate \u001b[38;5;241m*\u001b[39m \u001b[38;5;28mself\u001b[39m\u001b[38;5;241m.\u001b[39mdE_dw2 \u001b[38;5;241m/\u001b[39m batch_size\n\u001b[1;32m---> 81\u001b[0m \u001b[38;5;28mself\u001b[39m\u001b[38;5;241m.\u001b[39mw3 \u001b[38;5;241m-\u001b[39m\u001b[38;5;241m=\u001b[39m \u001b[38;5;28;43mself\u001b[39;49m\u001b[38;5;241;43m.\u001b[39;49m\u001b[43mlearn_rate\u001b[49m\u001b[43m \u001b[49m\u001b[38;5;241;43m*\u001b[39;49m\u001b[43m \u001b[49m\u001b[38;5;28;43mself\u001b[39;49m\u001b[38;5;241;43m.\u001b[39;49m\u001b[43mdE_dw3\u001b[49m\u001b[43m \u001b[49m\u001b[38;5;241;43m/\u001b[39;49m\u001b[43m \u001b[49m\u001b[43mbatch_size\u001b[49m\n\u001b[0;32m     82\u001b[0m \u001b[38;5;28mself\u001b[39m\u001b[38;5;241m.\u001b[39mb1 \u001b[38;5;241m-\u001b[39m\u001b[38;5;241m=\u001b[39m \u001b[38;5;28mself\u001b[39m\u001b[38;5;241m.\u001b[39mlearn_rate \u001b[38;5;241m*\u001b[39m \u001b[38;5;28mself\u001b[39m\u001b[38;5;241m.\u001b[39mdE_db1 \u001b[38;5;241m/\u001b[39m batch_size\n\u001b[0;32m     83\u001b[0m \u001b[38;5;28mself\u001b[39m\u001b[38;5;241m.\u001b[39mb2 \u001b[38;5;241m-\u001b[39m\u001b[38;5;241m=\u001b[39m \u001b[38;5;28mself\u001b[39m\u001b[38;5;241m.\u001b[39mlearn_rate \u001b[38;5;241m*\u001b[39m \u001b[38;5;28mself\u001b[39m\u001b[38;5;241m.\u001b[39mdE_db2 \u001b[38;5;241m/\u001b[39m batch_size\n",
      "\u001b[1;31mKeyboardInterrupt\u001b[0m: "
     ]
    }
   ],
   "source": [
    "model.learn_rate = 0.8\n",
    "train_model(model, a_array, pi_a_array_new, a_array, pi_a_array_new)"
   ]
  },
  {
   "cell_type": "code",
   "execution_count": 238,
   "metadata": {
    "collapsed": false,
    "jupyter": {
     "outputs_hidden": false
    },
    "pycharm": {
     "name": "#%%\n"
    }
   },
   "outputs": [
    {
     "data": {
      "text/plain": [
       "<matplotlib.legend.Legend at 0x230e98e7850>"
      ]
     },
     "execution_count": 238,
     "metadata": {},
     "output_type": "execute_result"
    },
    {
     "data": {
      "image/png": "[encoded data removed]",
      "text/plain": [
       "<Figure size 640x480 with 1 Axes>"
      ]
     },
     "metadata": {},
     "output_type": "display_data"
    }
   ],
   "source": [
    "i = -1\n",
    "answer = model.run(data=a_array[i].flatten(), activation_function=relu)\n",
    "plt.plot(p_array, answer.reshape(458,1), marker=\".\", label=\"predicted\")\n",
    "plt.plot(p_array, pi_a_array_new[i], marker=\".\", label=\"real\")\n",
    "plt.legend()"
   ]
  },
  {
   "cell_type": "code",
   "execution_count": null,
   "metadata": {
    "collapsed": false,
    "jupyter": {
     "outputs_hidden": false
    },
    "pycharm": {
     "name": "#%%\n"
    }
   },
   "outputs": [],
   "source": [
    "# right_answer = []\n",
    "# for i in X_train:\n",
    "#     right_answer.append(model.run(data=i.flatten(), activation_function=relu)[0][0]*y_scale)\n",
    "# plt.plot(X_train*10, Y_train*y_scale, marker=\".\")\n",
    "# plt.plot(X_train*10, right_answer, marker=\".\")"
   ]
  },
  {
   "cell_type": "code",
   "execution_count": null,
   "metadata": {
    "collapsed": false,
    "jupyter": {
     "outputs_hidden": false
    },
    "pycharm": {
     "name": "#%%\n"
    }
   },
   "outputs": [],
   "source": [
    "# import PyQt5\n",
    "# %matplotlib notebook\n",
    "#\n",
    "# import matplotlib.pyplot as plt\n",
    "# from mpl_toolkits.mplot3d import axes3d\n",
    "# fig = plt.figure()\n",
    "# ax = fig.add_subplot(111, projection='3d')\n",
    "# X, Y = np.meshgrid(AX_train, PX_train)\n",
    "# Z = Y_train.reshape(X.shape)\n",
    "# surf = ax.plot_surface(X, Y, Z)\n",
    "# plt.show()"
   ]
  }
 ],
 "metadata": {
  "kernelspec": {
   "display_name": "venv",
   "language": "python",
   "name": "venv"
  },
  "language_info": {
   "codemirror_mode": {
    "name": "ipython",
    "version": 3
   },
   "file_extension": ".py",
   "mimetype": "text/x-python",
   "name": "python",
   "nbconvert_exporter": "python",
   "pygments_lexer": "ipython3",
   "version": "3.11.3"
  }
 },
 "nbformat": 4,
 "nbformat_minor": 4
}
